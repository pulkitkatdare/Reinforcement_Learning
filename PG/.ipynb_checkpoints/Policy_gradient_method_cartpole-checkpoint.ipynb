{
 "cells": [
  {
   "cell_type": "code",
   "execution_count": 97,
   "metadata": {
    "collapsed": false
   },
   "outputs": [
    {
     "name": "stdout",
     "output_type": "stream",
     "text": [
      "\n"
     ]
    }
   ],
   "source": [
    "import numpy as np\n",
    "import gym\n",
    "#######Function Definitions in this part##################\n",
    "def softmax(x):\n",
    "    \"\"\"\n",
    "    N = np.shape(x)[0]\n",
    "    print N\n",
    "    e_x = np.exp(b-np.transpose(np.tile(np.max(b,axis=1),(N,1))))\n",
    "    e_ix =  np.transpose(np.tile(np.sum(e_x,axis=1),(N,1)))\n",
    "    out = e_x/e_ix\n",
    "    return out\n",
    "    \"\"\"\n",
    "    e_x = np.exp(x - np.max(x))\n",
    "    out = e_x / e_x.sum()\n",
    "    return out\n",
    "def Initialise(input_size=4,hidden_size=10,output_size=2,weight_scale =0.1):\n",
    "    W1 = weight_scale*np.random.randn(input_size,hidden_size)\n",
    "    b1 = np.zeros(hidden_size)\n",
    "    W2 = weight_scale*np.random.randn(hidden_size,output_size)\n",
    "    b2 = np.zeros(output_size)\n",
    "    return W1,b1,W2,b2\n",
    "def loss(input,W1,b1,W2,b2,y=None,reg=0.0):\n",
    "    input_max = np.max(input)\n",
    "    input_min = np.min(input)\n",
    "    input_dev =  np.std(input)\n",
    "    input = 1*(input-input_min)/(input_max - input_min)\n",
    "    out_1 = input.dot(W1) + b1\n",
    "    diff_1 = np.ones(np.shape(out_1))\n",
    "    diff_1m = out_1\n",
    "    diff_1[out_1<0] = 0\n",
    "    out_1[out_1 < 0] = 0\n",
    "    out_2 = out_1.dot(W2) + b2\n",
    "    e_ix = out_1\n",
    "    #print np.shape(out_2)\n",
    "    diff_2 = np.ones(np.shape(out_2))\n",
    "    diff_2[out_2<0] = 0\n",
    "    e_x = out_2\n",
    "    #sum_2 = np.sum(e_x,axis=1)\n",
    "    out_2 = softmax(out_2)\n",
    "    #print np.shape(out_2)\n",
    "    #print np.shape(out_2)\n",
    "    if (y==None): \n",
    "        #a = np.argmax(out_2)[0]\n",
    "        a = np.expand_dims(out_2, axis=0)\n",
    "        #print out_2\n",
    "        a =  np.argmax(a,axis=1)\n",
    "        #a = 0\n",
    "        return a\n",
    "    else :\n",
    "        diff_2 = np.ones(np.shape(out_2))\n",
    "        diff_2[e_x<0] = 0\n",
    "        sum_2 = np.sum(e_x,axis=1)\n",
    "        n = np.shape(input)[0]\n",
    "        #print np.shape(out_2)\n",
    "        loss_n = -np.sum(np.log(out_2[range(n),y]))\n",
    "        loss_n += 0.5*reg*np.sum(W1*W1) + 0.5*reg*np.sum(W2*W2)  \n",
    "        output_size = np.shape(W2)[1]\n",
    "        hidden_size = np.shape(W2)[0]\n",
    "        grad_b2 = np.zeros((n,output_size))\n",
    "        sum = 0\n",
    "        #print np.shape(out_2)\n",
    "        #print np.shape(grad_b2)\n",
    "        #print np.shape(sum_2)\n",
    "        for i in range(n):\n",
    "            for j in range(output_size):\n",
    "                if (j==y[i]):\n",
    "                    #print i,j\n",
    "                    grad_b2[i,j] = grad_b2[i,j] + (-1/out_2[i,j])*(out_2[i,j] - out_2[i,j]*(1/sum_2[i]))\n",
    "                else : \n",
    "                    grad_b2[i,j] = grad_b2[i,j] + (-1/out_2[i,j])*(-out_2[i,j]*(1/sum_2[i]))\n",
    "        grad_W2 = np.transpose(e_ix).dot(grad_b2)\n",
    "        #print np.shape(e_ix)\n",
    "        #print np.shape(grad_b2)\n",
    "        grad_out2 = grad_b2.dot(np.transpose(W2))\n",
    "        grad_b2 = np.sum(grad_b2,axis=0)\n",
    "        #print np.shape(grad_b2)\n",
    "        grad_b1 = np.zeros((n,hidden_size))\n",
    "        grad_b1 = np.multiply(grad_out2,diff_1)\n",
    "        #print np.shape(grad_b1)\n",
    "        grad_W1 = np.transpose(input).dot(grad_b1)\n",
    "        grad_b1 = np.sum(grad_b1,axis=0)\n",
    "        grad_W2 += reg*W2\n",
    "        grad_W1 += reg*W1 \n",
    "        return loss_n,grad_W2,grad_b2,grad_W1,grad_b1\n",
    "def run_episode(W1,W2,b1,b2,env,obs,no_iter=200,learning_rate = 0.00001):\n",
    "    y = []\n",
    "    input_data = []\n",
    "    r = 0\n",
    "    for i in range(no_iter):\n",
    "        input_data.append(obs)\n",
    "        action = loss(obs,W1,b1,W2,b2)\n",
    "        y.append(action)\n",
    "        obs, reward, done, info = env.step(action[0])\n",
    "        r = r  + reward\n",
    "        if (done): \n",
    "            break\n",
    "    y = np.asarray(y)\n",
    "    input_data = np.asarray(input_data)\n",
    "    loss_n,grad_W2,grad_b2,grad_W1,grad_b1 = loss(input_data,W1,b1,W2,b2,y)\n",
    "    W1 = W1 -learning_rate*grad_W1\n",
    "    b1 = b1 - learning_rate*grad_b1\n",
    "    W2 = W2 - learning_rate*grad_W2\n",
    "    b2 = b2 - learning_rate*grad_b2\n",
    "    return r,W1,b1,W2,b2\n",
    "        \n",
    "        \n",
    "                         "
   ]
  },
  {
   "cell_type": "code",
   "execution_count": 99,
   "metadata": {
    "collapsed": false
   },
   "outputs": [
    {
     "name": "stderr",
     "output_type": "stream",
     "text": [
      "[2016-08-15 19:08:15,022] Making new env: CartPole-v0\n",
      "/usr/local/lib/python2.7/dist-packages/ipykernel/__main__.py:42: FutureWarning: comparison to `None` will result in an elementwise object comparison in the future.\n",
      "/usr/local/lib/python2.7/dist-packages/ipykernel/__main__.py:70: RuntimeWarning: overflow encountered in double_scalars\n",
      "/usr/local/lib/python2.7/dist-packages/ipykernel/__main__.py:70: RuntimeWarning: invalid value encountered in double_scalars\n",
      "/usr/local/lib/python2.7/dist-packages/ipykernel/__main__.py:78: RuntimeWarning: invalid value encountered in multiply\n",
      "/usr/local/lib/python2.7/dist-packages/ipykernel/__main__.py:30: RuntimeWarning: invalid value encountered in less\n",
      "/usr/local/lib/python2.7/dist-packages/ipykernel/__main__.py:31: RuntimeWarning: invalid value encountered in less\n",
      "/usr/local/lib/python2.7/dist-packages/ipykernel/__main__.py:36: RuntimeWarning: invalid value encountered in less\n",
      "/usr/local/lib/python2.7/dist-packages/ipykernel/__main__.py:51: RuntimeWarning: invalid value encountered in less\n"
     ]
    },
    {
     "name": "stdout",
     "output_type": "stream",
     "text": [
      "0\n",
      "100\n",
      "200\n",
      "300\n",
      "400\n",
      "500\n",
      "600\n",
      "700\n",
      "800\n",
      "900\n",
      "9.0\n"
     ]
    }
   ],
   "source": [
    "env = gym.make('CartPole-v0')\n",
    "obs = env.reset()\n",
    "W1,b1,W2,b2 = Initialise()\n",
    "learning_rate = 0.0001 \n",
    "rate_decay = 0.999\n",
    "no_iter = 200\n",
    "for i in range(1000):\n",
    "    if(i%100 ==0): \n",
    "        print i\n",
    "        learning_rate = learning_rate*rate_decay\n",
    "    reward,W1,b1,W2,b2 = run_episode(W1,W2,b1,b2,env,obs,no_iter,learning_rate)\n",
    "    obs = env.reset()\n",
    "print reward\n",
    "    "
   ]
  },
  {
   "cell_type": "code",
   "execution_count": null,
   "metadata": {
    "collapsed": false
   },
   "outputs": [],
   "source": []
  },
  {
   "cell_type": "code",
   "execution_count": null,
   "metadata": {
    "collapsed": true
   },
   "outputs": [],
   "source": []
  },
  {
   "cell_type": "code",
   "execution_count": null,
   "metadata": {
    "collapsed": true
   },
   "outputs": [],
   "source": []
  }
 ],
 "metadata": {
  "kernelspec": {
   "display_name": "Python 2",
   "language": "python",
   "name": "python2"
  },
  "language_info": {
   "codemirror_mode": {
    "name": "ipython",
    "version": 2
   },
   "file_extension": ".py",
   "mimetype": "text/x-python",
   "name": "python",
   "nbconvert_exporter": "python",
   "pygments_lexer": "ipython2",
   "version": "2.7.6"
  }
 },
 "nbformat": 4,
 "nbformat_minor": 0
}
